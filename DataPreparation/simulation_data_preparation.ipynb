{
 "cells": [
  {
   "cell_type": "code",
   "execution_count": 1,
   "id": "b4d470c3-8515-454a-ba14-dc2cef26d76c",
   "metadata": {},
   "outputs": [],
   "source": [
    "from sklearn.preprocessing import StandardScaler\n",
    "from tqdm.auto import tqdm\n",
    "import pandas as pd\n",
    "import numpy as np\n",
    "import math"
   ]
  },
  {
   "cell_type": "code",
   "execution_count": 9,
   "id": "4e46e434-d717-4266-8dbc-7b78339bc7a4",
   "metadata": {},
   "outputs": [
    {
     "data": {
      "text/html": [
       "<div>\n",
       "<style scoped>\n",
       "    .dataframe tbody tr th:only-of-type {\n",
       "        vertical-align: middle;\n",
       "    }\n",
       "\n",
       "    .dataframe tbody tr th {\n",
       "        vertical-align: top;\n",
       "    }\n",
       "\n",
       "    .dataframe thead th {\n",
       "        text-align: right;\n",
       "    }\n",
       "</style>\n",
       "<table border=\"1\" class=\"dataframe\">\n",
       "  <thead>\n",
       "    <tr style=\"text-align: right;\">\n",
       "      <th></th>\n",
       "      <th>Timestamp</th>\n",
       "      <th>SINE</th>\n",
       "      <th>COSINE</th>\n",
       "      <th>NumBet</th>\n",
       "      <th>Leopard_100</th>\n",
       "      <th>Leopard_1000</th>\n",
       "      <th>Leopard_10000</th>\n",
       "      <th>Leopard_100000</th>\n",
       "      <th>Small_100</th>\n",
       "      <th>Small_1000</th>\n",
       "      <th>Small_10000</th>\n",
       "      <th>Small_100000</th>\n",
       "      <th>Large_100</th>\n",
       "      <th>Large_1000</th>\n",
       "      <th>Large_10000</th>\n",
       "      <th>Large_100000</th>\n",
       "      <th>Open_large</th>\n",
       "      <th>Open_leopard</th>\n",
       "      <th>Open_small</th>\n",
       "    </tr>\n",
       "    <tr>\n",
       "      <th>roundNumber</th>\n",
       "      <th></th>\n",
       "      <th></th>\n",
       "      <th></th>\n",
       "      <th></th>\n",
       "      <th></th>\n",
       "      <th></th>\n",
       "      <th></th>\n",
       "      <th></th>\n",
       "      <th></th>\n",
       "      <th></th>\n",
       "      <th></th>\n",
       "      <th></th>\n",
       "      <th></th>\n",
       "      <th></th>\n",
       "      <th></th>\n",
       "      <th></th>\n",
       "      <th></th>\n",
       "      <th></th>\n",
       "      <th></th>\n",
       "    </tr>\n",
       "  </thead>\n",
       "  <tbody>\n",
       "    <tr>\n",
       "      <th>1084925</th>\n",
       "      <td>1696118407</td>\n",
       "      <td>-0.563260</td>\n",
       "      <td>0.826280</td>\n",
       "      <td>0.845098</td>\n",
       "      <td>0.387755</td>\n",
       "      <td>0.081633</td>\n",
       "      <td>0.0</td>\n",
       "      <td>0.0</td>\n",
       "      <td>0.265306</td>\n",
       "      <td>0.061224</td>\n",
       "      <td>0.000000</td>\n",
       "      <td>0.0</td>\n",
       "      <td>0.183673</td>\n",
       "      <td>0.020408</td>\n",
       "      <td>0.000000</td>\n",
       "      <td>0.0</td>\n",
       "      <td>0</td>\n",
       "      <td>0</td>\n",
       "      <td>1</td>\n",
       "    </tr>\n",
       "    <tr>\n",
       "      <th>1084926</th>\n",
       "      <td>1696118431</td>\n",
       "      <td>-0.563054</td>\n",
       "      <td>0.826420</td>\n",
       "      <td>0.765739</td>\n",
       "      <td>0.294118</td>\n",
       "      <td>0.117647</td>\n",
       "      <td>0.0</td>\n",
       "      <td>0.0</td>\n",
       "      <td>0.058824</td>\n",
       "      <td>0.029412</td>\n",
       "      <td>0.000000</td>\n",
       "      <td>0.0</td>\n",
       "      <td>0.382353</td>\n",
       "      <td>0.117647</td>\n",
       "      <td>0.000000</td>\n",
       "      <td>0.0</td>\n",
       "      <td>0</td>\n",
       "      <td>0</td>\n",
       "      <td>1</td>\n",
       "    </tr>\n",
       "    <tr>\n",
       "      <th>1084927</th>\n",
       "      <td>1696118459</td>\n",
       "      <td>-0.562814</td>\n",
       "      <td>0.826584</td>\n",
       "      <td>0.826606</td>\n",
       "      <td>0.177778</td>\n",
       "      <td>0.177778</td>\n",
       "      <td>0.0</td>\n",
       "      <td>0.0</td>\n",
       "      <td>0.044444</td>\n",
       "      <td>0.222222</td>\n",
       "      <td>0.000000</td>\n",
       "      <td>0.0</td>\n",
       "      <td>0.155556</td>\n",
       "      <td>0.111111</td>\n",
       "      <td>0.111111</td>\n",
       "      <td>0.0</td>\n",
       "      <td>1</td>\n",
       "      <td>0</td>\n",
       "      <td>0</td>\n",
       "    </tr>\n",
       "    <tr>\n",
       "      <th>1084928</th>\n",
       "      <td>1696118485</td>\n",
       "      <td>-0.562590</td>\n",
       "      <td>0.826736</td>\n",
       "      <td>0.826606</td>\n",
       "      <td>0.333333</td>\n",
       "      <td>0.177778</td>\n",
       "      <td>0.0</td>\n",
       "      <td>0.0</td>\n",
       "      <td>0.222222</td>\n",
       "      <td>0.044444</td>\n",
       "      <td>0.066667</td>\n",
       "      <td>0.0</td>\n",
       "      <td>0.155556</td>\n",
       "      <td>0.000000</td>\n",
       "      <td>0.000000</td>\n",
       "      <td>0.0</td>\n",
       "      <td>0</td>\n",
       "      <td>1</td>\n",
       "      <td>0</td>\n",
       "    </tr>\n",
       "    <tr>\n",
       "      <th>1084929</th>\n",
       "      <td>1696118513</td>\n",
       "      <td>-0.562350</td>\n",
       "      <td>0.826900</td>\n",
       "      <td>0.845098</td>\n",
       "      <td>0.551020</td>\n",
       "      <td>0.061224</td>\n",
       "      <td>0.0</td>\n",
       "      <td>0.0</td>\n",
       "      <td>0.183673</td>\n",
       "      <td>0.020408</td>\n",
       "      <td>0.000000</td>\n",
       "      <td>0.0</td>\n",
       "      <td>0.122449</td>\n",
       "      <td>0.061224</td>\n",
       "      <td>0.000000</td>\n",
       "      <td>0.0</td>\n",
       "      <td>1</td>\n",
       "      <td>0</td>\n",
       "      <td>0</td>\n",
       "    </tr>\n",
       "  </tbody>\n",
       "</table>\n",
       "</div>"
      ],
      "text/plain": [
       "              Timestamp      SINE    COSINE    NumBet  Leopard_100  \\\n",
       "roundNumber                                                          \n",
       "1084925      1696118407 -0.563260  0.826280  0.845098     0.387755   \n",
       "1084926      1696118431 -0.563054  0.826420  0.765739     0.294118   \n",
       "1084927      1696118459 -0.562814  0.826584  0.826606     0.177778   \n",
       "1084928      1696118485 -0.562590  0.826736  0.826606     0.333333   \n",
       "1084929      1696118513 -0.562350  0.826900  0.845098     0.551020   \n",
       "\n",
       "             Leopard_1000  Leopard_10000  Leopard_100000  Small_100  \\\n",
       "roundNumber                                                           \n",
       "1084925          0.081633            0.0             0.0   0.265306   \n",
       "1084926          0.117647            0.0             0.0   0.058824   \n",
       "1084927          0.177778            0.0             0.0   0.044444   \n",
       "1084928          0.177778            0.0             0.0   0.222222   \n",
       "1084929          0.061224            0.0             0.0   0.183673   \n",
       "\n",
       "             Small_1000  Small_10000  Small_100000  Large_100  Large_1000  \\\n",
       "roundNumber                                                                 \n",
       "1084925        0.061224     0.000000           0.0   0.183673    0.020408   \n",
       "1084926        0.029412     0.000000           0.0   0.382353    0.117647   \n",
       "1084927        0.222222     0.000000           0.0   0.155556    0.111111   \n",
       "1084928        0.044444     0.066667           0.0   0.155556    0.000000   \n",
       "1084929        0.020408     0.000000           0.0   0.122449    0.061224   \n",
       "\n",
       "             Large_10000  Large_100000  Open_large  Open_leopard  Open_small  \n",
       "roundNumber                                                                   \n",
       "1084925         0.000000           0.0           0             0           1  \n",
       "1084926         0.000000           0.0           0             0           1  \n",
       "1084927         0.111111           0.0           1             0           0  \n",
       "1084928         0.000000           0.0           0             1           0  \n",
       "1084929         0.000000           0.0           1             0           0  "
      ]
     },
     "execution_count": 9,
     "metadata": {},
     "output_type": "execute_result"
    }
   ],
   "source": [
    "df = pd.read_csv(\"../data/luxury_dice_game.csv\")\n",
    "df = df.set_index(\"roundNumber\")\n",
    "df = df.sort_index()\n",
    "df = pd.get_dummies(df, columns=[\"Open\"], dtype=int) \n",
    "df[\"NumBet\"] = df[\"NumBet\"].apply(lambda x: math.log(x, 100))\n",
    "df.head()"
   ]
  },
  {
   "cell_type": "code",
   "execution_count": 3,
   "id": "0c14fa8b-0308-4147-85be-6c3f49de4c43",
   "metadata": {},
   "outputs": [
    {
     "data": {
      "application/vnd.jupyter.widget-view+json": {
       "model_id": "58225412ad5146699275969bfe010046",
       "version_major": 2,
       "version_minor": 0
      },
      "text/plain": [
       "  0%|          | 0/990 [00:00<?, ?it/s]"
      ]
     },
     "metadata": {},
     "output_type": "display_data"
    }
   ],
   "source": [
    "window_size = 10\n",
    "record = []\n",
    "time_code = []\n",
    "y = []\n",
    "# for i in tqdm(range(window_size, df.shape[0])):\n",
    "for i in tqdm(range(window_size, 1000)):\n",
    "    # tmp = df.iloc[i:i+window_size, -3:]\n",
    "    tmp = df.iloc[i-window_size:i,:]\n",
    "\n",
    "    record.append(np.concatenate([tmp.iloc[:,3:].values]))\n",
    "    time_code.append(df.iloc[i,1:3].values.flatten())\n",
    "    label = df.iloc[i,3:16].values\n",
    "    y.append(label)\n",
    "    break"
   ]
  },
  {
   "cell_type": "code",
   "execution_count": 7,
   "id": "a943ae40-c4b0-4d22-b062-9de118e6a6af",
   "metadata": {},
   "outputs": [
    {
     "data": {
      "text/plain": [
       "(10, 16)"
      ]
     },
     "execution_count": 7,
     "metadata": {},
     "output_type": "execute_result"
    }
   ],
   "source": [
    "record[0].shape"
   ]
  },
  {
   "cell_type": "code",
   "execution_count": 13,
   "id": "0bb9e4c3-00f6-4feb-83c5-2f325279bb7a",
   "metadata": {},
   "outputs": [
    {
     "data": {
      "text/plain": [
       "(10, 16)"
      ]
     },
     "execution_count": 13,
     "metadata": {},
     "output_type": "execute_result"
    }
   ],
   "source": [
    "record[0].shape"
   ]
  },
  {
   "cell_type": "code",
   "execution_count": 14,
   "id": "ef4c5ade-e9f8-40f3-8c99-a2efc6de9b6f",
   "metadata": {},
   "outputs": [
    {
     "data": {
      "text/plain": [
       "(2,)"
      ]
     },
     "execution_count": 14,
     "metadata": {},
     "output_type": "execute_result"
    }
   ],
   "source": [
    "time_code[0].shape"
   ]
  },
  {
   "cell_type": "code",
   "execution_count": 16,
   "id": "3b9160d8-822f-45db-a23c-a93484a103b0",
   "metadata": {},
   "outputs": [
    {
     "data": {
      "text/plain": [
       "(13,)"
      ]
     },
     "execution_count": 16,
     "metadata": {},
     "output_type": "execute_result"
    }
   ],
   "source": [
    "y[0].shape"
   ]
  },
  {
   "cell_type": "code",
   "execution_count": null,
   "id": "efaa1065-9688-46e5-8a93-bc8a95a6ae28",
   "metadata": {},
   "outputs": [],
   "source": []
  },
  {
   "cell_type": "code",
   "execution_count": 4,
   "id": "b32aa7d9-8e90-4f86-87b6-cef52e02a285",
   "metadata": {},
   "outputs": [],
   "source": [
    "# np.savez(\"data.npz\", record=np.array(record), time_code=np.array(time_code), y=np.array(y))"
   ]
  }
 ],
 "metadata": {
  "kernelspec": {
   "display_name": "Python 3 (ipykernel)",
   "language": "python",
   "name": "python3"
  },
  "language_info": {
   "codemirror_mode": {
    "name": "ipython",
    "version": 3
   },
   "file_extension": ".py",
   "mimetype": "text/x-python",
   "name": "python",
   "nbconvert_exporter": "python",
   "pygments_lexer": "ipython3",
   "version": "3.9.6"
  }
 },
 "nbformat": 4,
 "nbformat_minor": 5
}
