{
 "cells": [
  {
   "cell_type": "code",
   "execution_count": 1,
   "id": "d8a8469b-1fd0-4bbf-8025-b006cc53bef1",
   "metadata": {
    "tags": []
   },
   "outputs": [],
   "source": [
    "# -*- coding: utf-8 -*-\n",
    "from io import BytesIO\n",
    "from tensorflow.python.lib.io import file_io\n",
    "from tqdm.auto import tqdm\n",
    "from configuration import Config\n",
    "from Simulation.model import LuxuryDiceSimulationMdn as Model\n",
    "from Simulation.loss import MdnLoss\n",
    "\n",
    "import os\n",
    "import numpy as np\n",
    "import tensorflow as tf\n",
    "import warnings\n",
    "warnings.filterwarnings(\"ignore\")"
   ]
  },
  {
   "cell_type": "code",
   "execution_count": 2,
   "id": "d18e994e-8de4-40e3-a175-5205cd56acc2",
   "metadata": {
    "tags": []
   },
   "outputs": [
    {
     "name": "stderr",
     "output_type": "stream",
     "text": [
      "2023-12-16 15:09:37.724192: I tensorflow/stream_executor/cuda/cuda_gpu_executor.cc:937] successful NUMA node read from SysFS had negative value (-1), but there must be at least one NUMA node, so returning NUMA node zero\n",
      "2023-12-16 15:09:37.736890: I tensorflow/stream_executor/cuda/cuda_gpu_executor.cc:937] successful NUMA node read from SysFS had negative value (-1), but there must be at least one NUMA node, so returning NUMA node zero\n",
      "2023-12-16 15:09:37.737203: I tensorflow/stream_executor/cuda/cuda_gpu_executor.cc:937] successful NUMA node read from SysFS had negative value (-1), but there must be at least one NUMA node, so returning NUMA node zero\n",
      "2023-12-16 15:09:37.738616: I tensorflow/core/platform/cpu_feature_guard.cc:142] This TensorFlow binary is optimized with oneAPI Deep Neural Network Library (oneDNN) to use the following CPU instructions in performance-critical operations:  AVX2 FMA\n",
      "To enable them in other operations, rebuild TensorFlow with the appropriate compiler flags.\n",
      "2023-12-16 15:09:37.739897: I tensorflow/stream_executor/cuda/cuda_gpu_executor.cc:937] successful NUMA node read from SysFS had negative value (-1), but there must be at least one NUMA node, so returning NUMA node zero\n",
      "2023-12-16 15:09:37.740281: I tensorflow/stream_executor/cuda/cuda_gpu_executor.cc:937] successful NUMA node read from SysFS had negative value (-1), but there must be at least one NUMA node, so returning NUMA node zero\n",
      "2023-12-16 15:09:37.740523: I tensorflow/stream_executor/cuda/cuda_gpu_executor.cc:937] successful NUMA node read from SysFS had negative value (-1), but there must be at least one NUMA node, so returning NUMA node zero\n",
      "2023-12-16 15:09:38.478859: I tensorflow/stream_executor/cuda/cuda_gpu_executor.cc:937] successful NUMA node read from SysFS had negative value (-1), but there must be at least one NUMA node, so returning NUMA node zero\n",
      "2023-12-16 15:09:38.479129: I tensorflow/stream_executor/cuda/cuda_gpu_executor.cc:937] successful NUMA node read from SysFS had negative value (-1), but there must be at least one NUMA node, so returning NUMA node zero\n",
      "2023-12-16 15:09:38.479362: I tensorflow/stream_executor/cuda/cuda_gpu_executor.cc:937] successful NUMA node read from SysFS had negative value (-1), but there must be at least one NUMA node, so returning NUMA node zero\n",
      "2023-12-16 15:09:38.479538: I tensorflow/core/common_runtime/gpu/gpu_device.cc:1510] Created device /job:localhost/replica:0/task:0/device:GPU:0 with 157 MB memory:  -> device: 0, name: Tesla V100-SXM2-16GB, pci bus id: 0000:00:04.0, compute capability: 7.0\n",
      "2023-12-16 15:09:38.484672: I tensorflow/stream_executor/cuda/cuda_driver.cc:732] failed to allocate 157.94M (165609472 bytes) from device: CUDA_ERROR_OUT_OF_MEMORY: out of memory\n"
     ]
    }
   ],
   "source": [
    "model = Model()"
   ]
  },
  {
   "cell_type": "code",
   "execution_count": 2,
   "id": "2d03da2f-dc5a-4dcf-aad8-234942570331",
   "metadata": {
    "tags": []
   },
   "outputs": [
    {
     "name": "stdout",
     "output_type": "stream",
     "text": [
      "---------------------------------- APP CONFIG ----------------------------------\n",
      "data: \n",
      "  data_path: gs://bin_for_aiops/GambleMaster/LuxuryDice/luxury_dice_v2.npz\n",
      "  time_length: 15\n",
      "  train_test_split: 0.8\n",
      "train: \n",
      "  batch_size: 256\n",
      "  epoch: 3000\n",
      "test: \n",
      "  batch_size: 128\n",
      "model: \n",
      "  loss: MDN\n",
      "  metrics: MDN\n",
      "  focal_weight: 5\n",
      "optimizer: \n",
      "  method: adam\n",
      "  learning_rate: 1e-4\n",
      "weights: \n",
      "  simulation: weights/best_luxury_dice_simulation_model.tf\n",
      "--------------------------------------------------------------------------------\n"
     ]
    },
    {
     "name": "stderr",
     "output_type": "stream",
     "text": [
      "2023-12-16 14:53:05.997865: I tensorflow/stream_executor/cuda/cuda_gpu_executor.cc:937] successful NUMA node read from SysFS had negative value (-1), but there must be at least one NUMA node, so returning NUMA node zero\n",
      "2023-12-16 14:53:06.010535: I tensorflow/stream_executor/cuda/cuda_gpu_executor.cc:937] successful NUMA node read from SysFS had negative value (-1), but there must be at least one NUMA node, so returning NUMA node zero\n",
      "2023-12-16 14:53:06.010821: I tensorflow/stream_executor/cuda/cuda_gpu_executor.cc:937] successful NUMA node read from SysFS had negative value (-1), but there must be at least one NUMA node, so returning NUMA node zero\n"
     ]
    }
   ],
   "source": [
    "#\n",
    "# Configuration Loading\n",
    "# ----------------------------------------------------------------------------------------------------------------------\n",
    "config = Config(os.path.join(os.getcwd(), \"Simulation/config.yaml\"))\n",
    "\n",
    "# Set GPU as available physical device\n",
    "if gpus := tf.config.experimental.list_physical_devices(device_type='GPU'):\n",
    "    tf.config.experimental.set_visible_devices(devices=gpus[0], device_type='GPU')"
   ]
  },
  {
   "cell_type": "code",
   "execution_count": 4,
   "id": "58a9ad59-9b41-4405-b7bb-e885d6fdcca2",
   "metadata": {
    "tags": []
   },
   "outputs": [
    {
     "data": {
      "application/vnd.jupyter.widget-view+json": {
       "model_id": "6fccff1a9ece4d7cac1f73c33f75a2f8",
       "version_major": 2,
       "version_minor": 0
      },
      "text/plain": [
       "Training:   0%|          | 0/703 [00:00<?, ?it/s]"
      ]
     },
     "metadata": {},
     "output_type": "display_data"
    },
    {
     "data": {
      "application/vnd.jupyter.widget-view+json": {
       "model_id": "f903a2c151234d0683da40e02acfcc9a",
       "version_major": 2,
       "version_minor": 0
      },
      "text/plain": [
       "Testing:   0%|          | 0/176 [00:00<?, ?it/s]"
      ]
     },
     "metadata": {},
     "output_type": "display_data"
    },
    {
     "name": "stdout",
     "output_type": "stream",
     "text": [
      "Epoch: 1/3000\ttrain_loss: 37770802233344.000000\ttest_loss: 3785916153856.000000\n"
     ]
    },
    {
     "data": {
      "application/vnd.jupyter.widget-view+json": {
       "model_id": "fa7cad6e71a54f45a6f831ce6baf4fb5",
       "version_major": 2,
       "version_minor": 0
      },
      "text/plain": [
       "Training:   0%|          | 0/703 [00:00<?, ?it/s]"
      ]
     },
     "metadata": {},
     "output_type": "display_data"
    },
    {
     "data": {
      "application/vnd.jupyter.widget-view+json": {
       "model_id": "d3c3b2e513494c4dafd69fd58e122584",
       "version_major": 2,
       "version_minor": 0
      },
      "text/plain": [
       "Testing:   0%|          | 0/176 [00:00<?, ?it/s]"
      ]
     },
     "metadata": {},
     "output_type": "display_data"
    },
    {
     "name": "stdout",
     "output_type": "stream",
     "text": [
      "Epoch: 2/3000\ttrain_loss: 3681834237952.000000\ttest_loss: 2990320123904.000000\n"
     ]
    },
    {
     "data": {
      "application/vnd.jupyter.widget-view+json": {
       "model_id": "14abf8ffa66148708eae8fbdca7a4350",
       "version_major": 2,
       "version_minor": 0
      },
      "text/plain": [
       "Training:   0%|          | 0/703 [00:00<?, ?it/s]"
      ]
     },
     "metadata": {},
     "output_type": "display_data"
    },
    {
     "data": {
      "application/vnd.jupyter.widget-view+json": {
       "model_id": "0e00924058fa44e9b919bcac70746d1b",
       "version_major": 2,
       "version_minor": 0
      },
      "text/plain": [
       "Testing:   0%|          | 0/176 [00:00<?, ?it/s]"
      ]
     },
     "metadata": {},
     "output_type": "display_data"
    },
    {
     "name": "stdout",
     "output_type": "stream",
     "text": [
      "Epoch: 3/3000\ttrain_loss: 3202255683584.000000\ttest_loss: 2663453294592.000000\n"
     ]
    },
    {
     "data": {
      "application/vnd.jupyter.widget-view+json": {
       "model_id": "e96ef1bb52b64e028d3b930b53bf9047",
       "version_major": 2,
       "version_minor": 0
      },
      "text/plain": [
       "Training:   0%|          | 0/703 [00:00<?, ?it/s]"
      ]
     },
     "metadata": {},
     "output_type": "display_data"
    },
    {
     "data": {
      "application/vnd.jupyter.widget-view+json": {
       "model_id": "9718d27747464bd08a121c1cf1dd3c38",
       "version_major": 2,
       "version_minor": 0
      },
      "text/plain": [
       "Testing:   0%|          | 0/176 [00:00<?, ?it/s]"
      ]
     },
     "metadata": {},
     "output_type": "display_data"
    },
    {
     "name": "stdout",
     "output_type": "stream",
     "text": [
      "Epoch: 4/3000\ttrain_loss: 2745961021440.000000\ttest_loss: 2311037911040.000000\n"
     ]
    },
    {
     "data": {
      "application/vnd.jupyter.widget-view+json": {
       "model_id": "811d3393f1444c17ba40abae62b7d1dd",
       "version_major": 2,
       "version_minor": 0
      },
      "text/plain": [
       "Training:   0%|          | 0/703 [00:00<?, ?it/s]"
      ]
     },
     "metadata": {},
     "output_type": "display_data"
    },
    {
     "data": {
      "application/vnd.jupyter.widget-view+json": {
       "model_id": "3f81760c48194067adc406a96633d9bb",
       "version_major": 2,
       "version_minor": 0
      },
      "text/plain": [
       "Testing:   0%|          | 0/176 [00:00<?, ?it/s]"
      ]
     },
     "metadata": {},
     "output_type": "display_data"
    },
    {
     "name": "stdout",
     "output_type": "stream",
     "text": [
      "Epoch: 5/3000\ttrain_loss: 2308510580736.000000\ttest_loss: 1983167594496.000000\n"
     ]
    },
    {
     "data": {
      "application/vnd.jupyter.widget-view+json": {
       "model_id": "e4c7654046704c8d91e390476468d6b3",
       "version_major": 2,
       "version_minor": 0
      },
      "text/plain": [
       "Training:   0%|          | 0/703 [00:00<?, ?it/s]"
      ]
     },
     "metadata": {},
     "output_type": "display_data"
    },
    {
     "data": {
      "application/vnd.jupyter.widget-view+json": {
       "model_id": "c7ce0ca8bc6f4ab1a3614b99f8451dfb",
       "version_major": 2,
       "version_minor": 0
      },
      "text/plain": [
       "Testing:   0%|          | 0/176 [00:00<?, ?it/s]"
      ]
     },
     "metadata": {},
     "output_type": "display_data"
    },
    {
     "name": "stdout",
     "output_type": "stream",
     "text": [
      "Epoch: 6/3000\ttrain_loss: 1905829478400.000000\ttest_loss: 1660243542016.000000\n"
     ]
    },
    {
     "data": {
      "application/vnd.jupyter.widget-view+json": {
       "model_id": "4d6bcf03fa3d45fa9dc1f1626413f63a",
       "version_major": 2,
       "version_minor": 0
      },
      "text/plain": [
       "Training:   0%|          | 0/703 [00:00<?, ?it/s]"
      ]
     },
     "metadata": {},
     "output_type": "display_data"
    },
    {
     "data": {
      "application/vnd.jupyter.widget-view+json": {
       "model_id": "a46dde7ce45846b8ae43482c17ca624b",
       "version_major": 2,
       "version_minor": 0
      },
      "text/plain": [
       "Testing:   0%|          | 0/176 [00:00<?, ?it/s]"
      ]
     },
     "metadata": {},
     "output_type": "display_data"
    },
    {
     "name": "stdout",
     "output_type": "stream",
     "text": [
      "Epoch: 7/3000\ttrain_loss: 1541000658944.000000\ttest_loss: 1370299564032.000000\n"
     ]
    },
    {
     "data": {
      "application/vnd.jupyter.widget-view+json": {
       "model_id": "cab9a75b1c6146f1837bb644485f5d1b",
       "version_major": 2,
       "version_minor": 0
      },
      "text/plain": [
       "Training:   0%|          | 0/703 [00:00<?, ?it/s]"
      ]
     },
     "metadata": {},
     "output_type": "display_data"
    },
    {
     "data": {
      "application/vnd.jupyter.widget-view+json": {
       "model_id": "34c48621cf0646bbbb7f7e11bc275069",
       "version_major": 2,
       "version_minor": 0
      },
      "text/plain": [
       "Testing:   0%|          | 0/176 [00:00<?, ?it/s]"
      ]
     },
     "metadata": {},
     "output_type": "display_data"
    },
    {
     "name": "stdout",
     "output_type": "stream",
     "text": [
      "Epoch: 8/3000\ttrain_loss: 1241519095808.000000\ttest_loss: 1122038317056.000000\n"
     ]
    },
    {
     "data": {
      "application/vnd.jupyter.widget-view+json": {
       "model_id": "9cfb3d9bcc984f54be49f32bd0eb6403",
       "version_major": 2,
       "version_minor": 0
      },
      "text/plain": [
       "Training:   0%|          | 0/703 [00:00<?, ?it/s]"
      ]
     },
     "metadata": {},
     "output_type": "display_data"
    },
    {
     "data": {
      "application/vnd.jupyter.widget-view+json": {
       "model_id": "57d8019d604f43a2872d8790ac52e8ad",
       "version_major": 2,
       "version_minor": 0
      },
      "text/plain": [
       "Testing:   0%|          | 0/176 [00:00<?, ?it/s]"
      ]
     },
     "metadata": {},
     "output_type": "display_data"
    },
    {
     "name": "stdout",
     "output_type": "stream",
     "text": [
      "Epoch: 9/3000\ttrain_loss: 979967344640.000000\ttest_loss: 859600388096.000000\n"
     ]
    },
    {
     "data": {
      "application/vnd.jupyter.widget-view+json": {
       "model_id": "3e37c3d432b74ebda46d70ce8ac37fe9",
       "version_major": 2,
       "version_minor": 0
      },
      "text/plain": [
       "Training:   0%|          | 0/703 [00:00<?, ?it/s]"
      ]
     },
     "metadata": {},
     "output_type": "display_data"
    },
    {
     "data": {
      "application/vnd.jupyter.widget-view+json": {
       "model_id": "06e5638cd2ce4b628478a1cb57fc4eae",
       "version_major": 2,
       "version_minor": 0
      },
      "text/plain": [
       "Testing:   0%|          | 0/176 [00:00<?, ?it/s]"
      ]
     },
     "metadata": {},
     "output_type": "display_data"
    },
    {
     "name": "stdout",
     "output_type": "stream",
     "text": [
      "Epoch: 10/3000\ttrain_loss: 792613748736.000000\ttest_loss: 723215974400.000000\n"
     ]
    },
    {
     "data": {
      "application/vnd.jupyter.widget-view+json": {
       "model_id": "917f31e7716c4935b9f7c4a05c2a8aa9",
       "version_major": 2,
       "version_minor": 0
      },
      "text/plain": [
       "Training:   0%|          | 0/703 [00:00<?, ?it/s]"
      ]
     },
     "metadata": {},
     "output_type": "display_data"
    },
    {
     "data": {
      "application/vnd.jupyter.widget-view+json": {
       "model_id": "8a5b367154944d3c9ede0651aaf65497",
       "version_major": 2,
       "version_minor": 0
      },
      "text/plain": [
       "Testing:   0%|          | 0/176 [00:00<?, ?it/s]"
      ]
     },
     "metadata": {},
     "output_type": "display_data"
    },
    {
     "name": "stdout",
     "output_type": "stream",
     "text": [
      "Epoch: 11/3000\ttrain_loss: 682038525952.000000\ttest_loss: 628315914240.000000\n"
     ]
    },
    {
     "data": {
      "application/vnd.jupyter.widget-view+json": {
       "model_id": "1f64114b6a1445d9a3635a8689bfddd5",
       "version_major": 2,
       "version_minor": 0
      },
      "text/plain": [
       "Training:   0%|          | 0/703 [00:00<?, ?it/s]"
      ]
     },
     "metadata": {},
     "output_type": "display_data"
    },
    {
     "name": "stderr",
     "output_type": "stream",
     "text": [
      "\n",
      "KeyboardInterrupt\n",
      "\n"
     ]
    }
   ],
   "source": [
    "if __name__ == \"__main__\":\n",
    "    # Data Preparation\n",
    "    # x = np.random.rand(32, 15, 3)\n",
    "    # x = tf.cast(x, tf.float32)\n",
    "    # time_encode = np.random.rand(32, 2)\n",
    "    # time_encode = tf.cast(time_encode, tf.float32)\n",
    "    # y = np.random.rand(32, 13)\n",
    "    # y = tf.cast(y, tf.float32)\n",
    "    f = BytesIO(file_io.read_file_to_string(config.data.data_path, binary_mode=True))\n",
    "    data = np.load(f)\n",
    "    x, time_encode, y = data[\"record\"], data[\"time_code\"], data[\"y\"]\n",
    "    x = tf.cast(x, tf.float32)\n",
    "    time_encode = tf.cast(time_encode, tf.float32)\n",
    "    y = tf.cast(y, tf.float32)\n",
    "\n",
    "    k = int(config.data.train_test_split * x.shape[0])\n",
    "    x_train, x_test = x[:k, :, :], x[k:, :, :]\n",
    "    time_encode_train, time_encode_test = time_encode[:k, :], time_encode[k:, :]\n",
    "    y_train, y_test = y[:k, :], y[k:, :]\n",
    "\n",
    "    training_data = tf.data.Dataset.from_tensor_slices((x_train, time_encode_train, y_train))\n",
    "    training_batch = training_data.batch(config.train.batch_size)\n",
    "    testing_data = tf.data.Dataset.from_tensor_slices((x_test, time_encode_test, y_test))\n",
    "    testing_batch = testing_data.batch(config.train.batch_size)\n",
    "\n",
    "    #\n",
    "    # Create model (BetSimulation)\n",
    "    # ----------------------------------------------------------------------------------------------------------------------\n",
    "    model = Model()\n",
    "\n",
    "    if config.optimizer.method == 'sgd':\n",
    "        optimizer = tf.keras.optimizers.SGD(learning_rate=float(config.optimizer.learning_rate))\n",
    "    else:\n",
    "        optimizer = tf.keras.optimizers.Adam(learning_rate=float(config.optimizer.learning_rate))\n",
    "\n",
    "    #\n",
    "    # Loss\n",
    "    # ----------------------------------------------------------------------------------------------------------------------\n",
    "    # kld = tf.keras.losses.KLDivergence()\n",
    "    mdn_loss = MdnLoss(reduce=False)\n",
    "    mse = tf.keras.losses.MeanSquaredError()\n",
    "\n",
    "    #\n",
    "    # Train Model\n",
    "    # ----------------------------------------------------------------------------------------------------------------------\n",
    "    train_losses = []\n",
    "    test_losses = []\n",
    "    best_train_loss = float(\"inf\")\n",
    "    best_valid_loss = float(\"inf\")\n",
    "    for e in range(config.train.epoch):\n",
    "        train_loss_cache = []\n",
    "        train_mse_cache = []\n",
    "        test_loss_cache = []\n",
    "        test_mse_cache = []\n",
    "        for x, time, y in tqdm(training_batch, desc=\"Training\"):\n",
    "            with tf.GradientTape() as tape:\n",
    "                y_mu, y_sigma = model(x, time, training=True)\n",
    "                neg_log_pdf_normal = mdn_loss(y_mu[:, :1], y_sigma[:, :1], y[:, :1], \"Normal\")\n",
    "                neg_log_pdf_beta = mdn_loss(y_mu[:, 1:], y_sigma[:, 1:], y[:, 1:], \"Beta\")\n",
    "                neg_log_pdf_normal = tf.math.reduce_mean(neg_log_pdf_normal)\n",
    "                neg_log_pdf_beta = tf.math.reduce_mean(neg_log_pdf_beta)\n",
    "                focal_weight = config.model.focal_weight if neg_log_pdf_normal > 0 else 1/config.model.focal_weight\n",
    "                mse_loss = mse(y[:, :1], y_mu[:, :1])\n",
    "                train_loss = neg_log_pdf_normal * focal_weight + neg_log_pdf_beta + mse_loss * 1e3\n",
    "\n",
    "            gradients = tape.gradient(train_loss, model.trainable_variables)\n",
    "            optimizer.apply_gradients(zip(gradients, model.trainable_variables))\n",
    "            train_loss_cache.append(train_loss.numpy())\n",
    "            train_mse_cache.append(mse_loss.numpy())\n",
    "\n",
    "        for x, time, y in tqdm(testing_batch, desc=\"Testing\"):\n",
    "            y_mu, y_sigma = model(x, time)\n",
    "            neg_log_pdf_normal = mdn_loss(y_mu[:, :1], y_sigma[:, :1], y[:, :1], \"Normal\")\n",
    "            neg_log_pdf_beta = mdn_loss(y_mu[:, 1:], y_sigma[:, 1:], y[:, 1:], \"Beta\")\n",
    "            neg_log_pdf_normal = tf.math.reduce_mean(neg_log_pdf_normal)\n",
    "            neg_log_pdf_beta = tf.math.reduce_mean(neg_log_pdf_beta)\n",
    "            focal_weight = config.model.focal_weight if neg_log_pdf_normal > 0 else 1/config.model.focal_weight\n",
    "            mse_loss = mse(y[:, :1], y_mu[:, :1])\n",
    "            test_loss = neg_log_pdf_normal * focal_weight + neg_log_pdf_beta + mse_loss * 1e3\n",
    "            test_loss_cache.append(test_loss.numpy())\n",
    "            test_mse_cache.append(mse_loss.numpy())\n",
    "\n",
    "        train_loss_epoch = np.mean(train_loss_cache)\n",
    "        test_loss_epoch = np.mean(test_loss_cache)\n",
    "        train_losses.append(train_loss_epoch)\n",
    "        test_losses.append(test_loss_epoch)\n",
    "        \n",
    "        print('Epoch: {}/{}\\ttrain_loss: {:.6f}\\ttest_loss: {:.6f}'.\n",
    "              format(e + 1, config.train.epoch, train_loss_epoch, test_loss_epoch))\n",
    "        # break"
   ]
  },
  {
   "cell_type": "code",
   "execution_count": null,
   "id": "0f5e6a2d-d330-4dee-a6ad-df393d31e3d3",
   "metadata": {},
   "outputs": [],
   "source": []
  }
 ],
 "metadata": {
  "environment": {
   "kernel": "python3",
   "name": "tf2-gpu.2-6.m114",
   "type": "gcloud",
   "uri": "gcr.io/deeplearning-platform-release/tf2-gpu.2-6:m114"
  },
  "kernelspec": {
   "display_name": "Python 3",
   "language": "python",
   "name": "python3"
  },
  "language_info": {
   "codemirror_mode": {
    "name": "ipython",
    "version": 3
   },
   "file_extension": ".py",
   "mimetype": "text/x-python",
   "name": "python",
   "nbconvert_exporter": "python",
   "pygments_lexer": "ipython3",
   "version": "3.9.18"
  }
 },
 "nbformat": 4,
 "nbformat_minor": 5
}
